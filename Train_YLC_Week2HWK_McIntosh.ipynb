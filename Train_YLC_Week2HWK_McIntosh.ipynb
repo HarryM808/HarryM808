{
  "nbformat": 4,
  "nbformat_minor": 0,
  "metadata": {
    "colab": {
      "provenance": [],
      "collapsed_sections": [],
      "include_colab_link": true
    },
    "kernelspec": {
      "name": "python3",
      "display_name": "Python 3"
    },
    "language_info": {
      "name": "python"
    }
  },
  "cells": [
    {
      "cell_type": "markdown",
      "metadata": {
        "id": "view-in-github",
        "colab_type": "text"
      },
      "source": [
        "<a href=\"https://colab.research.google.com/github/HarryM808/HarryM808/blob/main/Train_YLC_Week2HWK_McIntosh.ipynb\" target=\"_parent\"><img src=\"https://colab.research.google.com/assets/colab-badge.svg\" alt=\"Open In Colab\"/></a>"
      ]
    },
    {
      "cell_type": "markdown",
      "source": [
        "# Week 2 Homework: Exploratory Data Analysis (EDA)\n",
        "---\n",
        "In this week's homework, you'll practice the exploratory data analysis (EDA) skills you learned during lecture and lab this week. You will work with three datasets and learn more about them.\n",
        "\n",
        "There is optional additional practice to practice data cleaning and wrangling if your lab group completed those sections. "
      ],
      "metadata": {
        "id": "U7FgZPkM9MrF"
      }
    },
    {
      "cell_type": "markdown",
      "source": [
        "##### **Make sure to run these libraries before starting.**"
      ],
      "metadata": {
        "id": "SDkdA2v0_Wl1"
      }
    },
    {
      "cell_type": "code",
      "source": [
        "# import pandas as pd \n",
        "import pandas as pd\n",
        "\n",
        "# Import datasets submodule\n",
        "from sklearn import datasets"
      ],
      "metadata": {
        "id": "Z6X-73pa_kXd"
      },
      "execution_count": 3,
      "outputs": []
    },
    {
      "cell_type": "markdown",
      "source": [
        "## **Dataset #1**\n",
        "---"
      ],
      "metadata": {
        "id": "wZhFUWCX_MIm"
      }
    },
    {
      "cell_type": "markdown",
      "source": [
        "The dataset below contains information about 10 U.S. States in alphabetical order. "
      ],
      "metadata": {
        "id": "lZ-ToXXH_lnF"
      }
    },
    {
      "cell_type": "code",
      "source": [
        "df = pd.DataFrame({'U.S. State':['Alabama', 'Alaska', 'Arizona', 'Arkansas', 'California', 'Colorado', 'Connecticut', 'Delaware', 'Florida', 'Georgia'], \n",
        "                         'Size (mi)': [52420, 665384, 113990, 53178, 163695, 104094, 5543, 2489, 65758, 59425], \n",
        "                         'Number of U.S. Representatives':[7, 1, 9, 4, 53, 7, 5, 1, 27, 14]}) "
      ],
      "metadata": {
        "id": "WolgOGQo_oS9"
      },
      "execution_count": 4,
      "outputs": []
    },
    {
      "cell_type": "code",
      "source": [
        "df"
      ],
      "metadata": {
        "id": "Cw8T1bK5A7Kp"
      },
      "execution_count": null,
      "outputs": []
    },
    {
      "cell_type": "markdown",
      "source": [
        "#### **Exercise 1:** How many variables are there?"
      ],
      "metadata": {
        "id": "16qhiHllBKX_"
      }
    },
    {
      "cell_type": "code",
      "source": [
        "# 3 variables"
      ],
      "metadata": {
        "id": "yeCXPmd-BOoE"
      },
      "execution_count": null,
      "outputs": []
    },
    {
      "cell_type": "markdown",
      "source": [
        "#### **Exercise 2:** What is the data type of `U.S. State`?"
      ],
      "metadata": {
        "id": "pkUHM248BnAt"
      }
    },
    {
      "cell_type": "code",
      "source": [
        "df.info()"
      ],
      "metadata": {
        "id": "cuwh0LefBvHv",
        "colab": {
          "base_uri": "https://localhost:8080/"
        },
        "outputId": "17d80b20-39d4-4465-d38c-cb061512bffc"
      },
      "execution_count": 5,
      "outputs": [
        {
          "output_type": "stream",
          "name": "stdout",
          "text": [
            "<class 'pandas.core.frame.DataFrame'>\n",
            "RangeIndex: 10 entries, 0 to 9\n",
            "Data columns (total 3 columns):\n",
            " #   Column                          Non-Null Count  Dtype \n",
            "---  ------                          --------------  ----- \n",
            " 0   U.S. State                      10 non-null     object\n",
            " 1   Size (mi)                       10 non-null     int64 \n",
            " 2   Number of U.S. Representatives  10 non-null     int64 \n",
            "dtypes: int64(2), object(1)\n",
            "memory usage: 368.0+ bytes\n"
          ]
        }
      ]
    },
    {
      "cell_type": "markdown",
      "source": [
        "#### **Exercise 3:** What is the mean of the variable `Size`?"
      ],
      "metadata": {
        "id": "J9Z1HhDfB465"
      }
    },
    {
      "cell_type": "code",
      "source": [
        "df.describe()"
      ],
      "metadata": {
        "id": "-xRVldNzCDvu",
        "colab": {
          "base_uri": "https://localhost:8080/",
          "height": 300
        },
        "outputId": "25330a6a-55ef-4c0e-f40e-0888b0f7050f"
      },
      "execution_count": 6,
      "outputs": [
        {
          "output_type": "execute_result",
          "data": {
            "text/plain": [
              "           Size (mi)  Number of U.S. Representatives\n",
              "count      10.000000                       10.000000\n",
              "mean   128597.600000                       12.800000\n",
              "std    194780.758633                       16.047153\n",
              "min      2489.000000                        1.000000\n",
              "25%     52609.500000                        4.250000\n",
              "50%     62591.500000                        7.000000\n",
              "75%    111516.000000                       12.750000\n",
              "max    665384.000000                       53.000000"
            ],
            "text/html": [
              "\n",
              "  <div id=\"df-36c97c8c-7be1-4079-8b82-f15d537540e6\">\n",
              "    <div class=\"colab-df-container\">\n",
              "      <div>\n",
              "<style scoped>\n",
              "    .dataframe tbody tr th:only-of-type {\n",
              "        vertical-align: middle;\n",
              "    }\n",
              "\n",
              "    .dataframe tbody tr th {\n",
              "        vertical-align: top;\n",
              "    }\n",
              "\n",
              "    .dataframe thead th {\n",
              "        text-align: right;\n",
              "    }\n",
              "</style>\n",
              "<table border=\"1\" class=\"dataframe\">\n",
              "  <thead>\n",
              "    <tr style=\"text-align: right;\">\n",
              "      <th></th>\n",
              "      <th>Size (mi)</th>\n",
              "      <th>Number of U.S. Representatives</th>\n",
              "    </tr>\n",
              "  </thead>\n",
              "  <tbody>\n",
              "    <tr>\n",
              "      <th>count</th>\n",
              "      <td>10.000000</td>\n",
              "      <td>10.000000</td>\n",
              "    </tr>\n",
              "    <tr>\n",
              "      <th>mean</th>\n",
              "      <td>128597.600000</td>\n",
              "      <td>12.800000</td>\n",
              "    </tr>\n",
              "    <tr>\n",
              "      <th>std</th>\n",
              "      <td>194780.758633</td>\n",
              "      <td>16.047153</td>\n",
              "    </tr>\n",
              "    <tr>\n",
              "      <th>min</th>\n",
              "      <td>2489.000000</td>\n",
              "      <td>1.000000</td>\n",
              "    </tr>\n",
              "    <tr>\n",
              "      <th>25%</th>\n",
              "      <td>52609.500000</td>\n",
              "      <td>4.250000</td>\n",
              "    </tr>\n",
              "    <tr>\n",
              "      <th>50%</th>\n",
              "      <td>62591.500000</td>\n",
              "      <td>7.000000</td>\n",
              "    </tr>\n",
              "    <tr>\n",
              "      <th>75%</th>\n",
              "      <td>111516.000000</td>\n",
              "      <td>12.750000</td>\n",
              "    </tr>\n",
              "    <tr>\n",
              "      <th>max</th>\n",
              "      <td>665384.000000</td>\n",
              "      <td>53.000000</td>\n",
              "    </tr>\n",
              "  </tbody>\n",
              "</table>\n",
              "</div>\n",
              "      <button class=\"colab-df-convert\" onclick=\"convertToInteractive('df-36c97c8c-7be1-4079-8b82-f15d537540e6')\"\n",
              "              title=\"Convert this dataframe to an interactive table.\"\n",
              "              style=\"display:none;\">\n",
              "        \n",
              "  <svg xmlns=\"http://www.w3.org/2000/svg\" height=\"24px\"viewBox=\"0 0 24 24\"\n",
              "       width=\"24px\">\n",
              "    <path d=\"M0 0h24v24H0V0z\" fill=\"none\"/>\n",
              "    <path d=\"M18.56 5.44l.94 2.06.94-2.06 2.06-.94-2.06-.94-.94-2.06-.94 2.06-2.06.94zm-11 1L8.5 8.5l.94-2.06 2.06-.94-2.06-.94L8.5 2.5l-.94 2.06-2.06.94zm10 10l.94 2.06.94-2.06 2.06-.94-2.06-.94-.94-2.06-.94 2.06-2.06.94z\"/><path d=\"M17.41 7.96l-1.37-1.37c-.4-.4-.92-.59-1.43-.59-.52 0-1.04.2-1.43.59L10.3 9.45l-7.72 7.72c-.78.78-.78 2.05 0 2.83L4 21.41c.39.39.9.59 1.41.59.51 0 1.02-.2 1.41-.59l7.78-7.78 2.81-2.81c.8-.78.8-2.07 0-2.86zM5.41 20L4 18.59l7.72-7.72 1.47 1.35L5.41 20z\"/>\n",
              "  </svg>\n",
              "      </button>\n",
              "      \n",
              "  <style>\n",
              "    .colab-df-container {\n",
              "      display:flex;\n",
              "      flex-wrap:wrap;\n",
              "      gap: 12px;\n",
              "    }\n",
              "\n",
              "    .colab-df-convert {\n",
              "      background-color: #E8F0FE;\n",
              "      border: none;\n",
              "      border-radius: 50%;\n",
              "      cursor: pointer;\n",
              "      display: none;\n",
              "      fill: #1967D2;\n",
              "      height: 32px;\n",
              "      padding: 0 0 0 0;\n",
              "      width: 32px;\n",
              "    }\n",
              "\n",
              "    .colab-df-convert:hover {\n",
              "      background-color: #E2EBFA;\n",
              "      box-shadow: 0px 1px 2px rgba(60, 64, 67, 0.3), 0px 1px 3px 1px rgba(60, 64, 67, 0.15);\n",
              "      fill: #174EA6;\n",
              "    }\n",
              "\n",
              "    [theme=dark] .colab-df-convert {\n",
              "      background-color: #3B4455;\n",
              "      fill: #D2E3FC;\n",
              "    }\n",
              "\n",
              "    [theme=dark] .colab-df-convert:hover {\n",
              "      background-color: #434B5C;\n",
              "      box-shadow: 0px 1px 3px 1px rgba(0, 0, 0, 0.15);\n",
              "      filter: drop-shadow(0px 1px 2px rgba(0, 0, 0, 0.3));\n",
              "      fill: #FFFFFF;\n",
              "    }\n",
              "  </style>\n",
              "\n",
              "      <script>\n",
              "        const buttonEl =\n",
              "          document.querySelector('#df-36c97c8c-7be1-4079-8b82-f15d537540e6 button.colab-df-convert');\n",
              "        buttonEl.style.display =\n",
              "          google.colab.kernel.accessAllowed ? 'block' : 'none';\n",
              "\n",
              "        async function convertToInteractive(key) {\n",
              "          const element = document.querySelector('#df-36c97c8c-7be1-4079-8b82-f15d537540e6');\n",
              "          const dataTable =\n",
              "            await google.colab.kernel.invokeFunction('convertToInteractive',\n",
              "                                                     [key], {});\n",
              "          if (!dataTable) return;\n",
              "\n",
              "          const docLinkHtml = 'Like what you see? Visit the ' +\n",
              "            '<a target=\"_blank\" href=https://colab.research.google.com/notebooks/data_table.ipynb>data table notebook</a>'\n",
              "            + ' to learn more about interactive tables.';\n",
              "          element.innerHTML = '';\n",
              "          dataTable['output_type'] = 'display_data';\n",
              "          await google.colab.output.renderOutput(dataTable, element);\n",
              "          const docLink = document.createElement('div');\n",
              "          docLink.innerHTML = docLinkHtml;\n",
              "          element.appendChild(docLink);\n",
              "        }\n",
              "      </script>\n",
              "    </div>\n",
              "  </div>\n",
              "  "
            ]
          },
          "metadata": {},
          "execution_count": 6
        }
      ]
    },
    {
      "cell_type": "code",
      "source": [],
      "metadata": {
        "id": "s2oln-X3Dcwt"
      },
      "execution_count": null,
      "outputs": []
    },
    {
      "cell_type": "markdown",
      "source": [
        "#### **Exercise 4:** What is the average number of U.S. House of Representatives that each state has?"
      ],
      "metadata": {
        "id": "0VpfZbG9B_FS"
      }
    },
    {
      "cell_type": "code",
      "source": [
        "#12.8"
      ],
      "metadata": {
        "id": "CJvbQ1LSC2W0"
      },
      "execution_count": null,
      "outputs": []
    },
    {
      "cell_type": "markdown",
      "source": [
        "## **Dataset #2**\n",
        "---"
      ],
      "metadata": {
        "id": "-h1OOAijFERg"
      }
    },
    {
      "cell_type": "markdown",
      "source": [
        "This DataFrame loads data from the NBA including the game matchups, location, all shots taken, when on the shot clock they were taken, whether the shot was a make or a miss, the shooter, the closest defender, and more.\n",
        "\n",
        "Each row represents a possesion prior to a shot."
      ],
      "metadata": {
        "id": "BrteBaWdapzH"
      }
    },
    {
      "cell_type": "code",
      "source": [
        "#load CSV\n",
        "url = \"https://raw.githubusercontent.com/the-codingschool/datascience/master/Unit%202/shot_logs.csv\"\n",
        "basketball_df = pd.read_csv(url)\n",
        "df=pd.read_csv(url)"
      ],
      "metadata": {
        "id": "DhYnVlIHaqSH"
      },
      "execution_count": 18,
      "outputs": []
    },
    {
      "cell_type": "markdown",
      "source": [
        "#### **Problem #1**. How many rows are there? Print the shape of the DataFrame."
      ],
      "metadata": {
        "id": "U9cnTF7Pawiq"
      }
    },
    {
      "cell_type": "code",
      "source": [
        "#df.info()\n",
        "print (\"\")\n",
        "df.shape\n",
        "print ('')\n",
        "df.columns\n",
        "len(df.columns)\n",
        "df.shape"
      ],
      "metadata": {
        "id": "h--6Hamn_XWb",
        "colab": {
          "base_uri": "https://localhost:8080/"
        },
        "outputId": "52d70000-d814-4c98-add2-1bb2f15827ce"
      },
      "execution_count": 24,
      "outputs": [
        {
          "output_type": "stream",
          "name": "stdout",
          "text": [
            "\n",
            "\n"
          ]
        },
        {
          "output_type": "execute_result",
          "data": {
            "text/plain": [
              "(128069, 21)"
            ]
          },
          "metadata": {},
          "execution_count": 24
        }
      ]
    },
    {
      "cell_type": "markdown",
      "source": [
        "#### **Problem #2**. What is the datatype of `DRIBBLES`?"
      ],
      "metadata": {
        "id": "4DBbfXiMa12O"
      }
    },
    {
      "cell_type": "code",
      "source": [
        "df.info()"
      ],
      "metadata": {
        "id": "z6hYZ0Dv__oY",
        "colab": {
          "base_uri": "https://localhost:8080/"
        },
        "outputId": "d169c54c-c50b-47b2-a8b7-2e11472ea12c"
      },
      "execution_count": 25,
      "outputs": [
        {
          "output_type": "stream",
          "name": "stdout",
          "text": [
            "<class 'pandas.core.frame.DataFrame'>\n",
            "RangeIndex: 128069 entries, 0 to 128068\n",
            "Data columns (total 21 columns):\n",
            " #   Column                      Non-Null Count   Dtype  \n",
            "---  ------                      --------------   -----  \n",
            " 0   GAME_ID                     128069 non-null  int64  \n",
            " 1   MATCHUP                     128069 non-null  object \n",
            " 2   LOCATION                    128069 non-null  object \n",
            " 3   W                           128069 non-null  object \n",
            " 4   FINAL_MARGIN                128069 non-null  int64  \n",
            " 5   SHOT_NUMBER                 128069 non-null  int64  \n",
            " 6   PERIOD                      128069 non-null  int64  \n",
            " 7   GAME_CLOCK                  128069 non-null  object \n",
            " 8   SHOT_CLOCK                  122502 non-null  float64\n",
            " 9   DRIBBLES                    128069 non-null  int64  \n",
            " 10  TOUCH_TIME                  128069 non-null  float64\n",
            " 11  SHOT_DIST                   128069 non-null  float64\n",
            " 12  PTS_TYPE                    128069 non-null  int64  \n",
            " 13  SHOT_RESULT                 128069 non-null  object \n",
            " 14  CLOSEST_DEFENDER            128069 non-null  object \n",
            " 15  CLOSEST_DEFENDER_PLAYER_ID  128069 non-null  int64  \n",
            " 16  CLOSE_DEF_DIST              128069 non-null  float64\n",
            " 17  FGM                         128069 non-null  int64  \n",
            " 18  PTS                         128069 non-null  int64  \n",
            " 19  player_name                 128069 non-null  object \n",
            " 20  player_id                   128069 non-null  int64  \n",
            "dtypes: float64(4), int64(10), object(7)\n",
            "memory usage: 20.5+ MB\n"
          ]
        }
      ]
    },
    {
      "cell_type": "markdown",
      "source": [
        "#### **Problem #3**: What are the mean number of dribbles per possesion? Use `DRIBBLES` as the feature."
      ],
      "metadata": {
        "id": "_UKSAp2WK2wA"
      }
    },
    {
      "cell_type": "code",
      "source": [
        "df.describe()"
      ],
      "metadata": {
        "id": "0N3u3dXwMT4R",
        "colab": {
          "base_uri": "https://localhost:8080/",
          "height": 364
        },
        "outputId": "5d3da1e8-1ae8-4782-ef24-14415d0ecbbb"
      },
      "execution_count": 27,
      "outputs": [
        {
          "output_type": "execute_result",
          "data": {
            "text/plain": [
              "            GAME_ID   FINAL_MARGIN    SHOT_NUMBER         PERIOD  \\\n",
              "count  1.280690e+05  128069.000000  128069.000000  128069.000000   \n",
              "mean   2.140045e+07       0.208723       6.506899       2.469427   \n",
              "std    2.578773e+02      13.233267       4.713260       1.139919   \n",
              "min    2.140000e+07     -53.000000       1.000000       1.000000   \n",
              "25%    2.140023e+07      -8.000000       3.000000       1.000000   \n",
              "50%    2.140045e+07       1.000000       5.000000       2.000000   \n",
              "75%    2.140067e+07       9.000000       9.000000       3.000000   \n",
              "max    2.140091e+07      53.000000      38.000000       7.000000   \n",
              "\n",
              "          SHOT_CLOCK       DRIBBLES     TOUCH_TIME      SHOT_DIST  \\\n",
              "count  122502.000000  128069.000000  128069.000000  128069.000000   \n",
              "mean       12.453344       2.023355       2.765901      13.571504   \n",
              "std         5.763265       3.477760       3.043682       8.888964   \n",
              "min         0.000000       0.000000    -163.600000       0.000000   \n",
              "25%         8.200000       0.000000       0.900000       4.700000   \n",
              "50%        12.300000       1.000000       1.600000      13.700000   \n",
              "75%        16.675000       2.000000       3.700000      22.500000   \n",
              "max        24.000000      32.000000      24.900000      47.200000   \n",
              "\n",
              "            PTS_TYPE  CLOSEST_DEFENDER_PLAYER_ID  CLOSE_DEF_DIST  \\\n",
              "count  128069.000000               128069.000000   128069.000000   \n",
              "mean        2.264670               159038.487284        4.123015   \n",
              "std         0.441159                78791.172947        2.756446   \n",
              "min         2.000000                  708.000000        0.000000   \n",
              "25%         2.000000               101249.000000        2.300000   \n",
              "50%         2.000000               201949.000000        3.700000   \n",
              "75%         3.000000               203079.000000        5.300000   \n",
              "max         3.000000               530027.000000       53.200000   \n",
              "\n",
              "                 FGM            PTS      player_id  \n",
              "count  128069.000000  128069.000000  128069.000000  \n",
              "mean        0.452139       0.997314  157238.251247  \n",
              "std         0.497706       1.130978   79362.389336  \n",
              "min         0.000000       0.000000     708.000000  \n",
              "25%         0.000000       0.000000  101162.000000  \n",
              "50%         0.000000       0.000000  201939.000000  \n",
              "75%         1.000000       2.000000  202704.000000  \n",
              "max         1.000000       3.000000  204060.000000  "
            ],
            "text/html": [
              "\n",
              "  <div id=\"df-07ede6af-1e02-4346-a662-4e400e4ade00\">\n",
              "    <div class=\"colab-df-container\">\n",
              "      <div>\n",
              "<style scoped>\n",
              "    .dataframe tbody tr th:only-of-type {\n",
              "        vertical-align: middle;\n",
              "    }\n",
              "\n",
              "    .dataframe tbody tr th {\n",
              "        vertical-align: top;\n",
              "    }\n",
              "\n",
              "    .dataframe thead th {\n",
              "        text-align: right;\n",
              "    }\n",
              "</style>\n",
              "<table border=\"1\" class=\"dataframe\">\n",
              "  <thead>\n",
              "    <tr style=\"text-align: right;\">\n",
              "      <th></th>\n",
              "      <th>GAME_ID</th>\n",
              "      <th>FINAL_MARGIN</th>\n",
              "      <th>SHOT_NUMBER</th>\n",
              "      <th>PERIOD</th>\n",
              "      <th>SHOT_CLOCK</th>\n",
              "      <th>DRIBBLES</th>\n",
              "      <th>TOUCH_TIME</th>\n",
              "      <th>SHOT_DIST</th>\n",
              "      <th>PTS_TYPE</th>\n",
              "      <th>CLOSEST_DEFENDER_PLAYER_ID</th>\n",
              "      <th>CLOSE_DEF_DIST</th>\n",
              "      <th>FGM</th>\n",
              "      <th>PTS</th>\n",
              "      <th>player_id</th>\n",
              "    </tr>\n",
              "  </thead>\n",
              "  <tbody>\n",
              "    <tr>\n",
              "      <th>count</th>\n",
              "      <td>1.280690e+05</td>\n",
              "      <td>128069.000000</td>\n",
              "      <td>128069.000000</td>\n",
              "      <td>128069.000000</td>\n",
              "      <td>122502.000000</td>\n",
              "      <td>128069.000000</td>\n",
              "      <td>128069.000000</td>\n",
              "      <td>128069.000000</td>\n",
              "      <td>128069.000000</td>\n",
              "      <td>128069.000000</td>\n",
              "      <td>128069.000000</td>\n",
              "      <td>128069.000000</td>\n",
              "      <td>128069.000000</td>\n",
              "      <td>128069.000000</td>\n",
              "    </tr>\n",
              "    <tr>\n",
              "      <th>mean</th>\n",
              "      <td>2.140045e+07</td>\n",
              "      <td>0.208723</td>\n",
              "      <td>6.506899</td>\n",
              "      <td>2.469427</td>\n",
              "      <td>12.453344</td>\n",
              "      <td>2.023355</td>\n",
              "      <td>2.765901</td>\n",
              "      <td>13.571504</td>\n",
              "      <td>2.264670</td>\n",
              "      <td>159038.487284</td>\n",
              "      <td>4.123015</td>\n",
              "      <td>0.452139</td>\n",
              "      <td>0.997314</td>\n",
              "      <td>157238.251247</td>\n",
              "    </tr>\n",
              "    <tr>\n",
              "      <th>std</th>\n",
              "      <td>2.578773e+02</td>\n",
              "      <td>13.233267</td>\n",
              "      <td>4.713260</td>\n",
              "      <td>1.139919</td>\n",
              "      <td>5.763265</td>\n",
              "      <td>3.477760</td>\n",
              "      <td>3.043682</td>\n",
              "      <td>8.888964</td>\n",
              "      <td>0.441159</td>\n",
              "      <td>78791.172947</td>\n",
              "      <td>2.756446</td>\n",
              "      <td>0.497706</td>\n",
              "      <td>1.130978</td>\n",
              "      <td>79362.389336</td>\n",
              "    </tr>\n",
              "    <tr>\n",
              "      <th>min</th>\n",
              "      <td>2.140000e+07</td>\n",
              "      <td>-53.000000</td>\n",
              "      <td>1.000000</td>\n",
              "      <td>1.000000</td>\n",
              "      <td>0.000000</td>\n",
              "      <td>0.000000</td>\n",
              "      <td>-163.600000</td>\n",
              "      <td>0.000000</td>\n",
              "      <td>2.000000</td>\n",
              "      <td>708.000000</td>\n",
              "      <td>0.000000</td>\n",
              "      <td>0.000000</td>\n",
              "      <td>0.000000</td>\n",
              "      <td>708.000000</td>\n",
              "    </tr>\n",
              "    <tr>\n",
              "      <th>25%</th>\n",
              "      <td>2.140023e+07</td>\n",
              "      <td>-8.000000</td>\n",
              "      <td>3.000000</td>\n",
              "      <td>1.000000</td>\n",
              "      <td>8.200000</td>\n",
              "      <td>0.000000</td>\n",
              "      <td>0.900000</td>\n",
              "      <td>4.700000</td>\n",
              "      <td>2.000000</td>\n",
              "      <td>101249.000000</td>\n",
              "      <td>2.300000</td>\n",
              "      <td>0.000000</td>\n",
              "      <td>0.000000</td>\n",
              "      <td>101162.000000</td>\n",
              "    </tr>\n",
              "    <tr>\n",
              "      <th>50%</th>\n",
              "      <td>2.140045e+07</td>\n",
              "      <td>1.000000</td>\n",
              "      <td>5.000000</td>\n",
              "      <td>2.000000</td>\n",
              "      <td>12.300000</td>\n",
              "      <td>1.000000</td>\n",
              "      <td>1.600000</td>\n",
              "      <td>13.700000</td>\n",
              "      <td>2.000000</td>\n",
              "      <td>201949.000000</td>\n",
              "      <td>3.700000</td>\n",
              "      <td>0.000000</td>\n",
              "      <td>0.000000</td>\n",
              "      <td>201939.000000</td>\n",
              "    </tr>\n",
              "    <tr>\n",
              "      <th>75%</th>\n",
              "      <td>2.140067e+07</td>\n",
              "      <td>9.000000</td>\n",
              "      <td>9.000000</td>\n",
              "      <td>3.000000</td>\n",
              "      <td>16.675000</td>\n",
              "      <td>2.000000</td>\n",
              "      <td>3.700000</td>\n",
              "      <td>22.500000</td>\n",
              "      <td>3.000000</td>\n",
              "      <td>203079.000000</td>\n",
              "      <td>5.300000</td>\n",
              "      <td>1.000000</td>\n",
              "      <td>2.000000</td>\n",
              "      <td>202704.000000</td>\n",
              "    </tr>\n",
              "    <tr>\n",
              "      <th>max</th>\n",
              "      <td>2.140091e+07</td>\n",
              "      <td>53.000000</td>\n",
              "      <td>38.000000</td>\n",
              "      <td>7.000000</td>\n",
              "      <td>24.000000</td>\n",
              "      <td>32.000000</td>\n",
              "      <td>24.900000</td>\n",
              "      <td>47.200000</td>\n",
              "      <td>3.000000</td>\n",
              "      <td>530027.000000</td>\n",
              "      <td>53.200000</td>\n",
              "      <td>1.000000</td>\n",
              "      <td>3.000000</td>\n",
              "      <td>204060.000000</td>\n",
              "    </tr>\n",
              "  </tbody>\n",
              "</table>\n",
              "</div>\n",
              "      <button class=\"colab-df-convert\" onclick=\"convertToInteractive('df-07ede6af-1e02-4346-a662-4e400e4ade00')\"\n",
              "              title=\"Convert this dataframe to an interactive table.\"\n",
              "              style=\"display:none;\">\n",
              "        \n",
              "  <svg xmlns=\"http://www.w3.org/2000/svg\" height=\"24px\"viewBox=\"0 0 24 24\"\n",
              "       width=\"24px\">\n",
              "    <path d=\"M0 0h24v24H0V0z\" fill=\"none\"/>\n",
              "    <path d=\"M18.56 5.44l.94 2.06.94-2.06 2.06-.94-2.06-.94-.94-2.06-.94 2.06-2.06.94zm-11 1L8.5 8.5l.94-2.06 2.06-.94-2.06-.94L8.5 2.5l-.94 2.06-2.06.94zm10 10l.94 2.06.94-2.06 2.06-.94-2.06-.94-.94-2.06-.94 2.06-2.06.94z\"/><path d=\"M17.41 7.96l-1.37-1.37c-.4-.4-.92-.59-1.43-.59-.52 0-1.04.2-1.43.59L10.3 9.45l-7.72 7.72c-.78.78-.78 2.05 0 2.83L4 21.41c.39.39.9.59 1.41.59.51 0 1.02-.2 1.41-.59l7.78-7.78 2.81-2.81c.8-.78.8-2.07 0-2.86zM5.41 20L4 18.59l7.72-7.72 1.47 1.35L5.41 20z\"/>\n",
              "  </svg>\n",
              "      </button>\n",
              "      \n",
              "  <style>\n",
              "    .colab-df-container {\n",
              "      display:flex;\n",
              "      flex-wrap:wrap;\n",
              "      gap: 12px;\n",
              "    }\n",
              "\n",
              "    .colab-df-convert {\n",
              "      background-color: #E8F0FE;\n",
              "      border: none;\n",
              "      border-radius: 50%;\n",
              "      cursor: pointer;\n",
              "      display: none;\n",
              "      fill: #1967D2;\n",
              "      height: 32px;\n",
              "      padding: 0 0 0 0;\n",
              "      width: 32px;\n",
              "    }\n",
              "\n",
              "    .colab-df-convert:hover {\n",
              "      background-color: #E2EBFA;\n",
              "      box-shadow: 0px 1px 2px rgba(60, 64, 67, 0.3), 0px 1px 3px 1px rgba(60, 64, 67, 0.15);\n",
              "      fill: #174EA6;\n",
              "    }\n",
              "\n",
              "    [theme=dark] .colab-df-convert {\n",
              "      background-color: #3B4455;\n",
              "      fill: #D2E3FC;\n",
              "    }\n",
              "\n",
              "    [theme=dark] .colab-df-convert:hover {\n",
              "      background-color: #434B5C;\n",
              "      box-shadow: 0px 1px 3px 1px rgba(0, 0, 0, 0.15);\n",
              "      filter: drop-shadow(0px 1px 2px rgba(0, 0, 0, 0.3));\n",
              "      fill: #FFFFFF;\n",
              "    }\n",
              "  </style>\n",
              "\n",
              "      <script>\n",
              "        const buttonEl =\n",
              "          document.querySelector('#df-07ede6af-1e02-4346-a662-4e400e4ade00 button.colab-df-convert');\n",
              "        buttonEl.style.display =\n",
              "          google.colab.kernel.accessAllowed ? 'block' : 'none';\n",
              "\n",
              "        async function convertToInteractive(key) {\n",
              "          const element = document.querySelector('#df-07ede6af-1e02-4346-a662-4e400e4ade00');\n",
              "          const dataTable =\n",
              "            await google.colab.kernel.invokeFunction('convertToInteractive',\n",
              "                                                     [key], {});\n",
              "          if (!dataTable) return;\n",
              "\n",
              "          const docLinkHtml = 'Like what you see? Visit the ' +\n",
              "            '<a target=\"_blank\" href=https://colab.research.google.com/notebooks/data_table.ipynb>data table notebook</a>'\n",
              "            + ' to learn more about interactive tables.';\n",
              "          element.innerHTML = '';\n",
              "          dataTable['output_type'] = 'display_data';\n",
              "          await google.colab.output.renderOutput(dataTable, element);\n",
              "          const docLink = document.createElement('div');\n",
              "          docLink.innerHTML = docLinkHtml;\n",
              "          element.appendChild(docLink);\n",
              "        }\n",
              "      </script>\n",
              "    </div>\n",
              "  </div>\n",
              "  "
            ]
          },
          "metadata": {},
          "execution_count": 27
        }
      ]
    },
    {
      "cell_type": "markdown",
      "source": [
        "#### **Problem #4**: Examine the value counts of the `player_name` column."
      ],
      "metadata": {
        "id": "YCNwGr_YLuw9"
      }
    },
    {
      "cell_type": "code",
      "source": [],
      "metadata": {
        "id": "IqZ_xrJoKhKu"
      },
      "execution_count": null,
      "outputs": []
    },
    {
      "cell_type": "markdown",
      "source": [
        "#### **Problem #5**: Which player had the ball on the 1000th possession?"
      ],
      "metadata": {
        "id": "HIabEM5INlyZ"
      }
    },
    {
      "cell_type": "code",
      "source": [],
      "metadata": {
        "id": "XsX6iDY1N6KE"
      },
      "execution_count": null,
      "outputs": []
    },
    {
      "cell_type": "markdown",
      "source": [
        "#### **Problem #6**: Were more shots made or missed by players? Use the feature `SHOT_RESULT`."
      ],
      "metadata": {
        "id": "lGceH2GUGtEK"
      }
    },
    {
      "cell_type": "code",
      "source": [],
      "metadata": {
        "id": "tq6MajW9Gvdi"
      },
      "execution_count": null,
      "outputs": []
    },
    {
      "cell_type": "markdown",
      "source": [
        "#### **Problem #7:** What was the median for the final margin in each basketball game? Use the feature `final_margin`."
      ],
      "metadata": {
        "id": "lKPLyGX9HeO-"
      }
    },
    {
      "cell_type": "code",
      "source": [],
      "metadata": {
        "id": "cnx4dC80H9Zi"
      },
      "execution_count": null,
      "outputs": []
    },
    {
      "cell_type": "markdown",
      "source": [
        "### **Dataset #3**\n",
        "---"
      ],
      "metadata": {
        "id": "AlM7m2XSaTjJ"
      }
    },
    {
      "cell_type": "markdown",
      "source": [
        "This dataset contains information collected by the U.S Census Service concerning housing in the area of Boston, Massachusetts. It is a very commonly used dataset within the machine learning space - this particular version is the original *raw* version. It contains `Nan` values and anomalous results.\n",
        "\n",
        "\n",
        "**There are 11 attributes in each case of the dataset.**\n",
        "\n",
        "`CRIM` - per capita crime rate by town \n",
        "\n",
        "`ZN` - proportion of residential land zoned for lots over 25,000 sq.ft.\n",
        "\n",
        "`INDUS` - proportion of non-retail business acres per town.\n",
        "\n",
        "`CHAS` - Charles River dummy variable (1 if tract bounds river; 0 otherwise)\n",
        "\n",
        "`NOX` - nitric oxides concentration (parts per 10 million)\n",
        "\n",
        "`RM` - average number of rooms per dwelling\n",
        "\n",
        "`AGE` - proportion of owner-occupied units built prior to 1940\n",
        "\n",
        "`DIS` - weighted distances to five Boston employment centres\n",
        "\n",
        "`RAD` - index of accessibility to radial highways\n",
        "\n",
        "`TAX` - full-value property-tax rate per $10,000\n",
        "\n",
        "`PTRATIO` - pupil-teacher ratio by town\n",
        "\n",
        "More information about the dataset can be found [here](https://www.cs.toronto.edu/~delve/data/boston/bostonDetail.html)."
      ],
      "metadata": {
        "id": "K42d_AuKeetI"
      }
    },
    {
      "cell_type": "markdown",
      "source": [
        "**Run the code below to load the dataframe:**"
      ],
      "metadata": {
        "id": "7Bo-cFO8ekUM"
      }
    },
    {
      "cell_type": "code",
      "source": [
        "data_url = \"http://lib.stat.cmu.edu/datasets/boston\"\n",
        "df = pd.read_csv(data_url, sep=\"\\s+\", skiprows=22, header=None)\n",
        "columns = ['CRIM', 'ZN', 'INDUS', 'CHAS', 'NOX', 'RM', 'AGE', 'DIS', 'RAD', 'TAX',\n",
        "       'PTRATIO']\n",
        "df.columns = columns"
      ],
      "metadata": {
        "id": "dvbkgtSBeleJ"
      },
      "execution_count": null,
      "outputs": []
    },
    {
      "cell_type": "markdown",
      "source": [
        "#### **Exercise 1:** Using only the DataFrame attributes, how many rows of data does the DataFrame have?"
      ],
      "metadata": {
        "id": "OhgOu3qZPain"
      }
    },
    {
      "cell_type": "code",
      "source": [],
      "metadata": {
        "id": "GtJQ_YlPPaio"
      },
      "execution_count": null,
      "outputs": []
    },
    {
      "cell_type": "markdown",
      "source": [
        "#### **Exercise 2:** What is the average number of rooms per home? "
      ],
      "metadata": {
        "id": "IfkCBIVaevw2"
      }
    },
    {
      "cell_type": "code",
      "source": [],
      "metadata": {
        "id": "-LzaHGGUexRH"
      },
      "execution_count": null,
      "outputs": []
    },
    {
      "cell_type": "markdown",
      "source": [
        "#### **Exercise 3:** What is the median of the `DIS` feature?"
      ],
      "metadata": {
        "id": "haN0oKyee5dH"
      }
    },
    {
      "cell_type": "code",
      "source": [],
      "metadata": {
        "id": "dyV-4i9de61-"
      },
      "execution_count": null,
      "outputs": []
    },
    {
      "cell_type": "markdown",
      "source": [
        "#### **Exercise 4:** Index the 494th row."
      ],
      "metadata": {
        "id": "nMJpLJyMOMgS"
      }
    },
    {
      "cell_type": "code",
      "source": [],
      "metadata": {
        "id": "_KY47Bk0OMgS"
      },
      "execution_count": null,
      "outputs": []
    },
    {
      "cell_type": "markdown",
      "source": [
        "#### **Exercise 5:** How much mitric oxides concentration is there in total? "
      ],
      "metadata": {
        "id": "oEZcspFmOwIr"
      }
    },
    {
      "cell_type": "code",
      "source": [],
      "metadata": {
        "id": "ndpUoquNLqj9"
      },
      "execution_count": null,
      "outputs": []
    },
    {
      "cell_type": "markdown",
      "source": [
        "#### **Exercise 6:** Which feature(s) have the most missing data? "
      ],
      "metadata": {
        "id": "y0vfQ-tqKsp6"
      }
    },
    {
      "cell_type": "code",
      "source": [],
      "metadata": {
        "id": "0AiOc0ZCKwxi"
      },
      "execution_count": null,
      "outputs": []
    },
    {
      "cell_type": "markdown",
      "source": [
        "### **Data Cleaning # 1 [Optional]**\n",
        "\n",
        "---\n",
        "\n",
        "Let's pretend you are a nutritionist looking at the prices of certain fruits to provide info to your client."
      ],
      "metadata": {
        "id": "DLTf_KPGKhm4"
      }
    },
    {
      "cell_type": "code",
      "source": [
        "fruit_df = pd.DataFrame({ \n",
        "    'fruit': ['apple','banana','cherry', \n",
        "              'dates','elderberry'], \n",
        "    'price':[1.00 , 0.50, None, 2.50, None]}) \n",
        "fruit_df"
      ],
      "metadata": {
        "colab": {
          "base_uri": "https://localhost:8080/",
          "height": 206
        },
        "id": "6OPH2Vy8P-Fu",
        "outputId": "55dd5fc9-b510-4e29-f5c9-3c00ee1ca073"
      },
      "execution_count": null,
      "outputs": [
        {
          "output_type": "execute_result",
          "data": {
            "text/plain": [
              "        fruit  price\n",
              "0       apple    1.0\n",
              "1      banana    0.5\n",
              "2      cherry    NaN\n",
              "3       dates    2.5\n",
              "4  elderberry    NaN"
            ],
            "text/html": [
              "\n",
              "  <div id=\"df-f273b071-ffe3-4cdf-81ad-e98e1358206b\">\n",
              "    <div class=\"colab-df-container\">\n",
              "      <div>\n",
              "<style scoped>\n",
              "    .dataframe tbody tr th:only-of-type {\n",
              "        vertical-align: middle;\n",
              "    }\n",
              "\n",
              "    .dataframe tbody tr th {\n",
              "        vertical-align: top;\n",
              "    }\n",
              "\n",
              "    .dataframe thead th {\n",
              "        text-align: right;\n",
              "    }\n",
              "</style>\n",
              "<table border=\"1\" class=\"dataframe\">\n",
              "  <thead>\n",
              "    <tr style=\"text-align: right;\">\n",
              "      <th></th>\n",
              "      <th>fruit</th>\n",
              "      <th>price</th>\n",
              "    </tr>\n",
              "  </thead>\n",
              "  <tbody>\n",
              "    <tr>\n",
              "      <th>0</th>\n",
              "      <td>apple</td>\n",
              "      <td>1.0</td>\n",
              "    </tr>\n",
              "    <tr>\n",
              "      <th>1</th>\n",
              "      <td>banana</td>\n",
              "      <td>0.5</td>\n",
              "    </tr>\n",
              "    <tr>\n",
              "      <th>2</th>\n",
              "      <td>cherry</td>\n",
              "      <td>NaN</td>\n",
              "    </tr>\n",
              "    <tr>\n",
              "      <th>3</th>\n",
              "      <td>dates</td>\n",
              "      <td>2.5</td>\n",
              "    </tr>\n",
              "    <tr>\n",
              "      <th>4</th>\n",
              "      <td>elderberry</td>\n",
              "      <td>NaN</td>\n",
              "    </tr>\n",
              "  </tbody>\n",
              "</table>\n",
              "</div>\n",
              "      <button class=\"colab-df-convert\" onclick=\"convertToInteractive('df-f273b071-ffe3-4cdf-81ad-e98e1358206b')\"\n",
              "              title=\"Convert this dataframe to an interactive table.\"\n",
              "              style=\"display:none;\">\n",
              "        \n",
              "  <svg xmlns=\"http://www.w3.org/2000/svg\" height=\"24px\"viewBox=\"0 0 24 24\"\n",
              "       width=\"24px\">\n",
              "    <path d=\"M0 0h24v24H0V0z\" fill=\"none\"/>\n",
              "    <path d=\"M18.56 5.44l.94 2.06.94-2.06 2.06-.94-2.06-.94-.94-2.06-.94 2.06-2.06.94zm-11 1L8.5 8.5l.94-2.06 2.06-.94-2.06-.94L8.5 2.5l-.94 2.06-2.06.94zm10 10l.94 2.06.94-2.06 2.06-.94-2.06-.94-.94-2.06-.94 2.06-2.06.94z\"/><path d=\"M17.41 7.96l-1.37-1.37c-.4-.4-.92-.59-1.43-.59-.52 0-1.04.2-1.43.59L10.3 9.45l-7.72 7.72c-.78.78-.78 2.05 0 2.83L4 21.41c.39.39.9.59 1.41.59.51 0 1.02-.2 1.41-.59l7.78-7.78 2.81-2.81c.8-.78.8-2.07 0-2.86zM5.41 20L4 18.59l7.72-7.72 1.47 1.35L5.41 20z\"/>\n",
              "  </svg>\n",
              "      </button>\n",
              "      \n",
              "  <style>\n",
              "    .colab-df-container {\n",
              "      display:flex;\n",
              "      flex-wrap:wrap;\n",
              "      gap: 12px;\n",
              "    }\n",
              "\n",
              "    .colab-df-convert {\n",
              "      background-color: #E8F0FE;\n",
              "      border: none;\n",
              "      border-radius: 50%;\n",
              "      cursor: pointer;\n",
              "      display: none;\n",
              "      fill: #1967D2;\n",
              "      height: 32px;\n",
              "      padding: 0 0 0 0;\n",
              "      width: 32px;\n",
              "    }\n",
              "\n",
              "    .colab-df-convert:hover {\n",
              "      background-color: #E2EBFA;\n",
              "      box-shadow: 0px 1px 2px rgba(60, 64, 67, 0.3), 0px 1px 3px 1px rgba(60, 64, 67, 0.15);\n",
              "      fill: #174EA6;\n",
              "    }\n",
              "\n",
              "    [theme=dark] .colab-df-convert {\n",
              "      background-color: #3B4455;\n",
              "      fill: #D2E3FC;\n",
              "    }\n",
              "\n",
              "    [theme=dark] .colab-df-convert:hover {\n",
              "      background-color: #434B5C;\n",
              "      box-shadow: 0px 1px 3px 1px rgba(0, 0, 0, 0.15);\n",
              "      filter: drop-shadow(0px 1px 2px rgba(0, 0, 0, 0.3));\n",
              "      fill: #FFFFFF;\n",
              "    }\n",
              "  </style>\n",
              "\n",
              "      <script>\n",
              "        const buttonEl =\n",
              "          document.querySelector('#df-f273b071-ffe3-4cdf-81ad-e98e1358206b button.colab-df-convert');\n",
              "        buttonEl.style.display =\n",
              "          google.colab.kernel.accessAllowed ? 'block' : 'none';\n",
              "\n",
              "        async function convertToInteractive(key) {\n",
              "          const element = document.querySelector('#df-f273b071-ffe3-4cdf-81ad-e98e1358206b');\n",
              "          const dataTable =\n",
              "            await google.colab.kernel.invokeFunction('convertToInteractive',\n",
              "                                                     [key], {});\n",
              "          if (!dataTable) return;\n",
              "\n",
              "          const docLinkHtml = 'Like what you see? Visit the ' +\n",
              "            '<a target=\"_blank\" href=https://colab.research.google.com/notebooks/data_table.ipynb>data table notebook</a>'\n",
              "            + ' to learn more about interactive tables.';\n",
              "          element.innerHTML = '';\n",
              "          dataTable['output_type'] = 'display_data';\n",
              "          await google.colab.output.renderOutput(dataTable, element);\n",
              "          const docLink = document.createElement('div');\n",
              "          docLink.innerHTML = docLinkHtml;\n",
              "          element.appendChild(docLink);\n",
              "        }\n",
              "      </script>\n",
              "    </div>\n",
              "  </div>\n",
              "  "
            ]
          },
          "metadata": {},
          "execution_count": 62
        }
      ]
    },
    {
      "cell_type": "markdown",
      "source": [
        "#### **Exercise 1:** Use mean to fill in the missing values from the `fruit_df` DataFrame given in the previous problem and save as a new DataFrame `df_filled_mean`. Then check to make sure it worked."
      ],
      "metadata": {
        "id": "TDDvPo2Ab5RI"
      }
    },
    {
      "cell_type": "code",
      "source": [],
      "metadata": {
        "id": "zYhrvL53AApb"
      },
      "execution_count": null,
      "outputs": []
    },
    {
      "cell_type": "markdown",
      "source": [
        "### **Data Cleaning # 2 [Optional]**\n",
        "---\n",
        "\n",
        "Medical data at a local urgent care is recorded in a DataFrame. Patients are given a unique id upon entry and are charged according to their age and symptoms."
      ],
      "metadata": {
        "id": "ZZ4UZBQDKuvN"
      }
    },
    {
      "cell_type": "code",
      "source": [
        "medical_df = pd.DataFrame({'patient id':[100, 101, 102, 103, 104, 105, 106, 107, 108, 109], \n",
        "                         'age': [10, 13, 15, 17, 19, 18, 16, 12, 14, 11], \n",
        "                         'symptom':[None, 'flu', 'headache', 'headache', 'flu', None, None, 'headache', 'flu', None], \n",
        "                         'charge':[30.00, None, 35.00, 36.00, 39.00, 38.00, 36.00, 32.00, 33.00, None]}) "
      ],
      "metadata": {
        "id": "P0m42mWbQfk8"
      },
      "execution_count": null,
      "outputs": []
    },
    {
      "cell_type": "markdown",
      "source": [
        "#### **Exercise 1:** Using the calculated mean below, use `fillna()` to replace NA values in the `\"charge\"` column."
      ],
      "metadata": {
        "id": "KkBmCDobcur8"
      }
    },
    {
      "cell_type": "code",
      "source": [],
      "metadata": {
        "id": "l5PM47RjAB3X"
      },
      "execution_count": null,
      "outputs": []
    },
    {
      "cell_type": "markdown",
      "source": [
        "#### **Exercise 2:** Drop all the null values, and compare the shape of the DataFrame before and after. How many rows were dropped?"
      ],
      "metadata": {
        "id": "shN308ZncbU1"
      }
    },
    {
      "cell_type": "code",
      "source": [],
      "metadata": {
        "id": "Vfezw_wcABmy"
      },
      "execution_count": null,
      "outputs": []
    },
    {
      "cell_type": "markdown",
      "source": [
        "#### **Exercise 3:** What is the average cost of going to this clinic?"
      ],
      "metadata": {
        "id": "UMUNLECTSI1p"
      }
    },
    {
      "cell_type": "code",
      "source": [],
      "metadata": {
        "id": "3jJUsogMSI1y"
      },
      "execution_count": null,
      "outputs": []
    },
    {
      "cell_type": "markdown",
      "source": [
        "---\n",
        "Copyright 2022 The Coding School, All rights Reserved"
      ],
      "metadata": {
        "id": "1fKuMhTg8Sk9"
      }
    }
  ]
}